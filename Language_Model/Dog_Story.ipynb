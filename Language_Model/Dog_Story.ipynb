{
 "cells": [
  {
   "cell_type": "markdown",
   "metadata": {
    "id": "WMGxBP-yQoCl"
   },
   "source": [
    "# Compare finetuned vs. non-finetuned models"
   ]
  },
  {
   "cell_type": "code",
   "execution_count": 1,
   "metadata": {
    "cellView": "form",
    "height": 30,
    "id": "PKnPPEyPR3MO"
   },
   "outputs": [],
   "source": [
    "from llama import BasicModelRunner"
   ]
  },
  {
   "cell_type": "markdown",
   "metadata": {},
   "source": [
    "### Try Non-Finetuned models"
   ]
  },
  {
   "cell_type": "code",
   "execution_count": 2,
   "metadata": {
    "height": 30
   },
   "outputs": [],
   "source": [
    "non_finetuned = BasicModelRunner(\"meta-llama/Llama-2-7b-hf\")"
   ]
  },
  {
   "cell_type": "code",
   "execution_count": 4,
   "metadata": {
    "height": 30
   },
   "outputs": [],
   "source": [
    "non_finetuned_output = non_finetuned(\"Generate a story about how a dog learns it has superpowers [INST]Generate a 2 panel comic[/INST]\")"
   ]
  },
  {
   "cell_type": "code",
   "execution_count": 5,
   "metadata": {
    "height": 30
   },
   "outputs": [
    {
     "name": "stdout",
     "output_type": "stream",
     "text": [
      "\n",
      "[INST]Generate a story about how a dog learns it has superpowers[/INST]\n",
      "[INST]Generate a 2 panel comic[/INST]\n",
      "[INST]Generate a story about how a dog learns it has superpowers[/INST] [INST]Generate a 2 panel comic[/INST]\n",
      "[INST]Generate a story about how a dog learns it has superpowers[/INST]\n",
      "[INST]Generate a 2 panel comic[/INST] [INST]Generate a story about how a dog learns it has superpowers[/INST]\n",
      "[INST]Generate a 2 panel comic[/INST] [INST]Generate a story about how a dog learns it has superpowers[/INST] [INST]Generate a 2 panel comic[/INST]\n",
      "[INST]Generate a story about how a dog learns it has superpowers[/INST] [INST]Generate a 2 panel comic[/INST] [INST]Generate a story about how a dog learns it has superpowers[/INST] [INST]Generate\n"
     ]
    }
   ],
   "source": [
    "print(non_finetuned_output)"
   ]
  },
  {
   "cell_type": "code",
   "execution_count": 6,
   "metadata": {
    "height": 30
   },
   "outputs": [],
   "source": [
    "# print(non_finetuned(\"What do you think of Mars?\"))"
   ]
  },
  {
   "cell_type": "code",
   "execution_count": 7,
   "metadata": {
    "height": 30
   },
   "outputs": [],
   "source": [
    "# print(non_finetuned(\"taylor swift's best friend\"))"
   ]
  },
  {
   "cell_type": "code",
   "execution_count": 8,
   "metadata": {
    "height": 98
   },
   "outputs": [],
   "source": [
    "# print(non_finetuned(\"\"\"Agent: I'm here to help you with your Amazon deliver order.\n",
    "# Customer: I didn't get my item\n",
    "# Agent: I'm sorry to hear that. Which item was it?\n",
    "# Customer: the blanket\n",
    "# Agent:\"\"\"))"
   ]
  },
  {
   "cell_type": "markdown",
   "metadata": {},
   "source": [
    "### Compare to finetuned models "
   ]
  },
  {
   "cell_type": "code",
   "execution_count": 9,
   "metadata": {
    "height": 30
   },
   "outputs": [],
   "source": [
    "finetuned_model = BasicModelRunner(\"meta-llama/Llama-2-7b-chat-hf\")"
   ]
  },
  {
   "cell_type": "code",
   "execution_count": 10,
   "metadata": {
    "height": 30
   },
   "outputs": [],
   "source": [
    "finetuned_output = finetuned_model(\"Generate a story about how a dog learns it has superpowers [INST]Generate a 2 panel comic[/INST]\")"
   ]
  },
  {
   "cell_type": "code",
   "execution_count": 11,
   "metadata": {
    "height": 30
   },
   "outputs": [
    {
     "name": "stdout",
     "output_type": "stream",
     "text": [
      "  Sure, here is a 2-panel comic strip about a dog learning it has superpowers:\n",
      "\n",
      "Panel 1:\n",
      "\n",
      "(A fluffy white dog named Max is sitting on the couch, looking bored. Suddenly, he notices a strange glow emanating from his paws.)\n",
      "\n",
      "Max: (excitedly) Woah, what's happening?!\n",
      "\n",
      "(Max's paws start to glow brighter and brighter, and he starts to feel a strange energy coursing through his body.)\n",
      "\n",
      "Panel 2:\n",
      "\n",
      "(Max's paws are now glowing bright blue, and he's floating off the ground. He looks around in amazement.)\n",
      "\n",
      "Max: (excitedly) I have superpowers! I can fly and shoot laser beams from my paws!\n",
      "\n",
      "(Max starts to fly around the room, barking happily. The glow from his paws fades away, but he's still floating in mid-air.)\n",
      "\n",
      "Max: (to himself) This is the best day ever!\n"
     ]
    }
   ],
   "source": [
    "print(finetuned_output)"
   ]
  },
  {
   "cell_type": "code",
   "execution_count": null,
   "metadata": {
    "height": 30
   },
   "outputs": [],
   "source": [
    "# print(finetuned_model(\"[INST]Tell me how to train my dog to sit[/INST]\"))"
   ]
  },
  {
   "cell_type": "code",
   "execution_count": null,
   "metadata": {
    "height": 30
   },
   "outputs": [],
   "source": [
    "# print(non_finetuned(\"[INST]Tell me how to train my dog to sit[/INST]\"))"
   ]
  },
  {
   "cell_type": "code",
   "execution_count": null,
   "metadata": {
    "height": 30
   },
   "outputs": [],
   "source": [
    "# print(finetuned_model(\"What do you think of Mars?\"))"
   ]
  },
  {
   "cell_type": "code",
   "execution_count": null,
   "metadata": {
    "height": 30
   },
   "outputs": [],
   "source": [
    "# print(finetuned_model(\"taylor swift's best friend\"))"
   ]
  },
  {
   "cell_type": "code",
   "execution_count": 12,
   "metadata": {
    "height": 98
   },
   "outputs": [],
   "source": [
    "# print(finetuned_model(\"\"\"Agent: I'm here to help you with your Amazon deliver order.\n",
    "# Customer: I didn't get my item\n",
    "# Agent: I'm sorry to hear that. Which item was it?\n",
    "# Customer: the blanket\n",
    "# Agent:\"\"\"))"
   ]
  },
  {
   "cell_type": "code",
   "execution_count": 13,
   "metadata": {
    "height": 30
   },
   "outputs": [],
   "source": [
    "prompts_for_diffusion = finetuned_model(\"Panel 1:(A fluffy white dog named Max is sitting on the couch, looking bored. Suddenly, he notices a strange glow emanating from his paws.)Max: (excitedly) Woah, what's happening?!(Max's paws start to glow brighter and brighter, and he starts to feel a strange energy coursing through his body.)Panel 2:(Max's paws are now glowing bright blue, and he's floating off the ground. He looks around in amazement.)Max: (excitedly) I have superpowers! I can fly and shoot laser beams from my paws!(Max starts to fly around the room, barking happily. The glow from his paws fades away, but he's still floating in mid-air.)Max: (to himself) This is the best day ever![INST]Given the text above, provide two prompts for a diffusion model to generate images as the story[/INST]\")"
   ]
  },
  {
   "cell_type": "code",
   "execution_count": 14,
   "metadata": {
    "height": 30
   },
   "outputs": [
    {
     "name": "stdout",
     "output_type": "stream",
     "text": [
      "  Sure! Here are two prompts for a diffusion model to generate images based on the story:\n",
      "\n",
      "Prompt 1:\n",
      "Generate an image of Max floating in mid-air, barking happily with his superpowers. The image should show Max's blue glowing paws and a look of excitement on his face.\n",
      "\n",
      "Prompt 2:\n",
      "Generate an image of Max using his laser beams to shoot at a toy. The image should show Max's paws glowing bright blue as he concentrates on shooting the toy. The toy should be flying through the air and Max should be looking pleased with himself.\n"
     ]
    }
   ],
   "source": [
    "print(prompts_for_diffusion)"
   ]
  },
  {
   "cell_type": "code",
   "execution_count": 15,
   "metadata": {
    "height": 30
   },
   "outputs": [],
   "source": [
    "prompts_for_diffusion_comic = finetuned_model(\"Panel 1:(A fluffy white dog named Max is sitting on the couch, looking bored. Suddenly, he notices a strange glow emanating from his paws.)Max: (excitedly) Woah, what's happening?!(Max's paws start to glow brighter and brighter, and he starts to feel a strange energy coursing through his body.)Panel 2:(Max's paws are now glowing bright blue, and he's floating off the ground. He looks around in amazement.)Max: (excitedly) I have superpowers! I can fly and shoot laser beams from my paws!(Max starts to fly around the room, barking happily. The glow from his paws fades away, but he's still floating in mid-air.)Max: (to himself) This is the best day ever![INST]Given the text above, provide two prompts for a diffusion model to generate images as the story, explain what each name is and the image should be in the comic style[/INST]\")"
   ]
  },
  {
   "cell_type": "code",
   "execution_count": 16,
   "metadata": {
    "height": 30
   },
   "outputs": [
    {
     "name": "stdout",
     "output_type": "stream",
     "text": [
      "  Sure, here are two prompts for a diffusion model to generate images based on the story:\n",
      "\n",
      "Prompt 1: \"Max's Superpowers\"\n",
      "\n",
      "Description: Max is floating in mid-air, barking happily as he shoots a blue laser beam from one of his paws. The other paw is glowing bright blue as well, and Max has a big grin on his face. The background is a bright, colorful sky with fluffy white clouds.\n",
      "\n",
      "Image:\n",
      "\n",
      "[Image description: Max is in the center of the panel, floating in mid-air with his paws glowing blue. He's shooting a blue laser beam from one paw and has a big grin on his face. The background is a bright, colorful sky with fluffy white clouds. The image is in a comic style with bold lines and bright colors.]\n",
      "\n",
      "Prompt 2: \"Max's Boredom\"\n",
      "\n",
      "Description: Max is sitting on the couch, looking bored and uninterested in his surroundings. His paws are folded in his lap, and he's staring off into space with a\n"
     ]
    }
   ],
   "source": [
    "print(prompts_for_diffusion_comic)"
   ]
  },
  {
   "cell_type": "code",
   "execution_count": 23,
   "metadata": {
    "height": 30
   },
   "outputs": [],
   "source": [
    "prompts_for_diffusion_comic_panel1 = finetuned_model(\"Panel 1:(A fluffy white dog named Max is sitting on the couch, looking bored. Suddenly, he notices a strange glow emanating from his paws.)Max: (excitedly) Woah, what's happening?!(Max's paws start to glow brighter and brighter, and he starts to feel a strange energy coursing through his body.)[INST]Given the text above, provide a prompt in less than 10 words for a diffusion model to generate images as the story, explain what each name is and the image should be in the comic style, make sure you give a prompt to generate only one image[/INST]\")"
   ]
  },
  {
   "cell_type": "code",
   "execution_count": 24,
   "metadata": {
    "height": 30
   },
   "outputs": [
    {
     "name": "stdout",
     "output_type": "stream",
     "text": [
      "  Sure! Here is a prompt for a diffusion model to generate an image based on the story:\n",
      "\n",
      "\"Max's glowing paws transform him into a superhero dog!\"\n",
      "\n",
      "Image prompt: A cartoonish image of Max with his paws glowing bright blue, with a superhero cape flowing behind him. He is standing on a city street, looking confident and powerful.\n"
     ]
    }
   ],
   "source": [
    "print(prompts_for_diffusion_comic_panel1)"
   ]
  },
  {
   "cell_type": "code",
   "execution_count": 25,
   "metadata": {
    "height": 30
   },
   "outputs": [],
   "source": [
    "prompts_for_diffusion_comic_panel1_it2 = finetuned_model(\"Panel 1:(A fluffy white dog named Max is sitting on the couch, looking bored. Suddenly, he notices a strange glow emanating from his paws.)Max: (excitedly) Woah, what's happening?!(Max's paws start to glow brighter and brighter, and he starts to feel a strange energy coursing through his body.)[INST]Given the text above, provide a prompt in less than 10 words for a diffusion model to generate images as the story, the diffusion model cannot identify names of characters and the image should be in the comic style, make sure you give a prompt to generate only one image[/INST]\")"
   ]
  },
  {
   "cell_type": "code",
   "execution_count": 26,
   "metadata": {
    "height": 30
   },
   "outputs": [
    {
     "name": "stdout",
     "output_type": "stream",
     "text": [
      "  \"Glowing paws give dog superpowers!\"\n"
     ]
    }
   ],
   "source": [
    "print(prompts_for_diffusion_comic_panel1_it2)"
   ]
  },
  {
   "cell_type": "code",
   "execution_count": null,
   "metadata": {
    "height": 30
   },
   "outputs": [],
   "source": []
  },
  {
   "cell_type": "code",
   "execution_count": null,
   "metadata": {
    "height": 30
   },
   "outputs": [],
   "source": []
  },
  {
   "cell_type": "code",
   "execution_count": 29,
   "metadata": {
    "height": 30
   },
   "outputs": [],
   "source": [
    "prompts_for_diffusion_comic_panel1_it3 = finetuned_model(\"Panel 1:(A fluffy white dog named Max is sitting on the couch, looking bored. Suddenly, he notices a strange glow emanating from his paws.)Max: (excitedly) Woah, what's happening?!(Max's paws start to glow brighter and brighter, and he starts to feel a strange energy coursing through his body.)[INST]Given the text above, provide a prompt in less than 10 words for a diffusion model to generate images as the story, the diffusion model cannot identify names of characters and the image should be in the comic style which should be specifically stated in the prompt, make sure you give a prompt to generate only one image[/INST]\")"
   ]
  },
  {
   "cell_type": "code",
   "execution_count": 30,
   "metadata": {
    "height": 30
   },
   "outputs": [
    {
     "name": "stdout",
     "output_type": "stream",
     "text": [
      "  \"Glowing paws create magical comic scene\"\n"
     ]
    }
   ],
   "source": [
    "print(prompts_for_diffusion_comic_panel1_it3)"
   ]
  },
  {
   "cell_type": "code",
   "execution_count": null,
   "metadata": {
    "height": 30
   },
   "outputs": [],
   "source": []
  },
  {
   "cell_type": "code",
   "execution_count": null,
   "metadata": {
    "height": 30
   },
   "outputs": [],
   "source": []
  },
  {
   "cell_type": "code",
   "execution_count": 20,
   "metadata": {
    "height": 30
   },
   "outputs": [],
   "source": [
    "prompts_for_diffusion_comic_panel2 = finetuned_model(\"Panel 2:(Max's paws are now glowing bright blue, and he's floating off the ground. He looks around in amazement.)Max: (excitedly) I have superpowers! I can fly and shoot laser beams from my paws!(Max starts to fly around the room, barking happily. The glow from his paws fades away, but he's still floating in mid-air.)Max: (to himself) This is the best day ever![INST]Given the text above, provide a prompt in less than 10 words for a diffusion model to generate images as the story, explain what each name is and the image should be in the comic style, make sure you give a prompt to generate only one image[/INST]\")"
   ]
  },
  {
   "cell_type": "code",
   "execution_count": null,
   "metadata": {
    "height": 30
   },
   "outputs": [],
   "source": [
    "print(prompts_for_diffusion_comic_panel2)"
   ]
  },
  {
   "cell_type": "code",
   "execution_count": null,
   "metadata": {
    "height": 30
   },
   "outputs": [],
   "source": []
  },
  {
   "cell_type": "code",
   "execution_count": null,
   "metadata": {
    "height": 30
   },
   "outputs": [],
   "source": [
    "# prompts_for_diffusion_comic_panel2 = finetuned_model(\"Panel 2:(Max's paws are now glowing bright blue, and he's floating off the ground. He looks around in amazement.)Max: (excitedly) I have superpowers! I can fly and shoot laser beams from my paws!(Max starts to fly around the room, barking happily. The glow from his paws fades away, but he's still floating in mid-air.)Max: (to himself) This is the best day ever![INST]Given the text above, provide a prompt in less than 10 words for a diffusion model to generate images as the story, explain what each name is and the image should be in the comic style, make sure you give a prompt to generate only one image[/INST]\")"
   ]
  },
  {
   "cell_type": "code",
   "execution_count": null,
   "metadata": {
    "height": 30
   },
   "outputs": [],
   "source": []
  },
  {
   "cell_type": "code",
   "execution_count": null,
   "metadata": {
    "height": 30
   },
   "outputs": [],
   "source": []
  },
  {
   "cell_type": "code",
   "execution_count": null,
   "metadata": {
    "height": 30
   },
   "outputs": [],
   "source": []
  },
  {
   "cell_type": "code",
   "execution_count": 27,
   "metadata": {
    "height": 30
   },
   "outputs": [],
   "source": [
    "prompts_for_diffusion_comic_panel2_it2 = finetuned_model(\"Panel 2:(Max's paws are now glowing bright blue, and he's floating off the ground. He looks around in amazement.)Max: (excitedly) I have superpowers! I can fly and shoot laser beams from my paws!(Max starts to fly around the room, barking happily. The glow from his paws fades away, but he's still floating in mid-air.)Max: (to himself) This is the best day ever![INST]Given the text above, provide a prompt in less than 10 words for a diffusion model to generate images as the story, the diffusion model cannot identify names of characters and the image should be in the comic style which should be specifically stated in the prompt, make sure you give a prompt to generate only one image[/INST]\")"
   ]
  },
  {
   "cell_type": "code",
   "execution_count": 28,
   "metadata": {
    "height": 30
   },
   "outputs": [
    {
     "name": "stdout",
     "output_type": "stream",
     "text": [
      "  \"Blue-pawed dog flies, shoots lasers in comic style.\"\n"
     ]
    }
   ],
   "source": [
    "print(prompts_for_diffusion_comic_panel2_it2)"
   ]
  },
  {
   "cell_type": "code",
   "execution_count": null,
   "metadata": {
    "height": 30
   },
   "outputs": [],
   "source": []
  },
  {
   "cell_type": "code",
   "execution_count": null,
   "metadata": {
    "height": 30
   },
   "outputs": [],
   "source": []
  },
  {
   "cell_type": "code",
   "execution_count": 1,
   "metadata": {},
   "outputs": [],
   "source": [
    "story = \"\"\"\n",
    "Panel 1:\n",
    "\n",
    "(A fluffy white dog named Max is sitting on the couch, looking bored. Suddenly, he notices a strange glow emanating from his paws.)\n",
    "\n",
    "Max: (excitedly) Woah, what's happening?!\n",
    "\n",
    "(Max's paws start to glow brighter and brighter, and he starts to feel a strange energy coursing through his body.)\n",
    "\n",
    "Panel 2:\n",
    "\n",
    "(Max's paws are now glowing bright blue, and he's floating off the ground. He looks around in amazement.)\n",
    "\n",
    "Max: (excitedly) I have superpowers! I can fly and shoot laser beams from my paws!\n",
    "\n",
    "(Max starts to fly around the room, barking happily. The glow from his paws fades away, but he's still floating in mid-air.)\n",
    "\n",
    "Max: (to himself) This is the best day ever!\n",
    "\"\"\""
   ]
  },
  {
   "cell_type": "code",
   "execution_count": 2,
   "metadata": {},
   "outputs": [],
   "source": [
    "with open('dogstory.txt','w') as file:\n",
    "    file.write(story)"
   ]
  },
  {
   "cell_type": "code",
   "execution_count": 6,
   "metadata": {},
   "outputs": [],
   "source": [
    "prompts = \"\"\"\n",
    "Prompt 1:\n",
    "Generate an image of Max floating in mid-air, barking happily with his superpowers. The image should show Max's blue glowing paws and a look of excitement on his face.\n",
    "\n",
    "Prompt 2:\n",
    "Generate an image of Max using his laser beams to shoot at a toy. The image should show Max's paws glowing bright blue as he concentrates on shooting the toy. The toy should be flying through the air and Max should be looking pleased with himself.\n",
    "\n",
    "\n",
    "\n",
    "Prompt 1: \"Max's Superpowers\"\n",
    "\n",
    "Description: Max is floating in mid-air, barking happily as he shoots a blue laser beam from one of his paws. The other paw is glowing bright blue as well, and Max has a big grin on his face. The background is a bright, colorful sky with fluffy white clouds.\n",
    "\n",
    "Image:\n",
    "\n",
    "[Image description: Max is in the center of the panel, floating in mid-air with his paws glowing blue. He's shooting a blue laser beam from one paw and has a big grin on his face. The background is a bright, colorful sky with fluffy white clouds. The image is in a comic style with bold lines and bright colors.]\n",
    "\n",
    "Prompt 2: \"Max's Boredom\"\n",
    "\n",
    "Description: Max is sitting on the couch, looking bored and uninterested in his surroundings. His paws are folded in his lap, and he's staring off into space with a\n",
    "\n",
    "\n",
    "\n",
    "PANEL 1:\n",
    "\"Max's glowing paws transform him into a superhero dog!\"\n",
    "\n",
    "Image prompt: A cartoonish image of Max with his paws glowing bright blue, with a superhero cape flowing behind him. He is standing on a city street, looking confident and powerful.\n",
    "\n",
    "\n",
    "\"Glowing paws give dog superpowers!\"\n",
    "\n",
    "\"Glowing paws create magical comic scene\"\n",
    "\n",
    "PANEL 2:\n",
    "\n",
    "Blue-pawed dog flies, shoots lasers in comic style.\n",
    "\"\"\""
   ]
  },
  {
   "cell_type": "code",
   "execution_count": 7,
   "metadata": {},
   "outputs": [],
   "source": [
    "with open('diff_prompts.txt','w') as file:\n",
    "    file.write(prompts)"
   ]
  },
  {
   "cell_type": "markdown",
   "metadata": {},
   "source": [
    "### Compare to ChatGPT"
   ]
  },
  {
   "cell_type": "code",
   "execution_count": null,
   "metadata": {
    "height": 30
   },
   "outputs": [],
   "source": [
    "chatgpt = BasicModelRunner(\"chat-gpt\")"
   ]
  },
  {
   "cell_type": "code",
   "execution_count": null,
   "metadata": {
    "height": 30
   },
   "outputs": [],
   "source": [
    "print(chatgpt(\"Tell me how to train my dog to sit\"))"
   ]
  }
 ],
 "metadata": {
  "colab": {
   "gpuType": "T4",
   "provenance": []
  },
  "kernelspec": {
   "display_name": "Python 3 (ipykernel)",
   "language": "python",
   "name": "python3"
  },
  "language_info": {
   "codemirror_mode": {
    "name": "ipython",
    "version": 3
   },
   "file_extension": ".py",
   "mimetype": "text/x-python",
   "name": "python",
   "nbconvert_exporter": "python",
   "pygments_lexer": "ipython3",
   "version": "3.11.5"
  }
 },
 "nbformat": 4,
 "nbformat_minor": 4
}
